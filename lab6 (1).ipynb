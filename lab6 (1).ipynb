{
 "cells": [
  {
   "cell_type": "code",
   "execution_count": 55,
   "id": "25451c56-56f9-4d51-abbd-44658e6778d0",
   "metadata": {},
   "outputs": [
    {
     "name": "stdout",
     "output_type": "stream",
     "text": [
      "Initial environment conditions: {'A': 1, 'B': 2, 'C': 2, 'D': 1}\n",
      "Vacuum is randomly placed at Location B.\n",
      "Location B is Clean.\n",
      "Location B is already Clean.\n",
      "Moving to Location A...\n",
      "Location A is Dirty.\n",
      "Location A has been Cleaned.\n",
      "Moving to Location C...\n",
      "Location C is Clean.\n",
      "Location C is already Clean.\n",
      "Moving to Location D...\n",
      "Location D is Dirty.\n",
      "Location D has been Cleaned.\n",
      "Final environment conditions: {'A': 0, 'B': 2, 'C': 2, 'D': 0}\n",
      "Performance Measurement: 2\n"
     ]
    }
   ],
   "source": [
    "import random\n",
    "\n",
    "class Environment:\n",
    "    def __init__(self):\n",
    "        # Initialize location conditions randomly (0: clean, 1: dirty)\n",
    "        self.locationCondition = {\n",
    "            'A': random.randint(0, 2),  # 1 means dirty, 0 means clean\n",
    "            'B': random.randint(0, 2),\n",
    "            'C': random.randint(0, 2),\n",
    "            'D': random.randint(0, 2),\n",
    "        }\n",
    "\n",
    "class SimpleReflexVacuumAgent:\n",
    "    def __init__(self, environment):\n",
    "        self.environment = environment\n",
    "        self.score = 0 \n",
    "        self.vacuumLocation = random.randint(0, 3)  \n",
    "\n",
    "        # Display the initial condition of the environment\n",
    "        print(\"Initial environment conditions:\", self.environment.locationCondition)\n",
    "\n",
    "        # Perform cleaning based on vacuum location\n",
    "        if self.vacuumLocation == 0:\n",
    "            print(\"Vacuum is randomly placed at Location A.\")\n",
    "            self.clean_location('A')\n",
    "            self.move_and_clean('B')\n",
    "            self.move_and_clean('C')\n",
    "            self.move_and_clean('D')\n",
    "        elif self.vacuumLocation == 1:\n",
    "            print(\"Vacuum is randomly placed at Location B.\")\n",
    "            self.clean_location('B')\n",
    "            self.move_and_clean('A')\n",
    "            self.move_and_clean('C')\n",
    "            self.move_and_clean('D')\n",
    "        elif self.vacuumLocation == 2:\n",
    "            print(\"Vacuum is randomly placed at Location C.\")\n",
    "            self.clean_location('C')\n",
    "            self.move_and_clean('D')\n",
    "            self.move_and_clean('A')\n",
    "            self.move_and_clean('B')\n",
    "        elif self.vacuumLocation == 3:\n",
    "            print(\"Vacuum is randomly placed at Location D.\")\n",
    "            self.clean_location('D')\n",
    "            self.move_and_clean('C')\n",
    "            self.move_and_clean('A')\n",
    "            self.move_and_clean('B')\n",
    "\n",
    "       \n",
    "        print(\"Final environment conditions:\", self.environment.locationCondition)\n",
    "        print(\"Performance Measurement: \" + str(self.score))\n",
    "\n",
    "    def clean_location(self, location):\n",
    "        print(f\"Location {location} is {'Dirty' if self.environment.locationCondition[location] == 1 else 'Clean'}.\")\n",
    "        if self.environment.locationCondition[location] == 1:  # If dirty\n",
    "            self.environment.locationCondition[location] = 0  # Clean the location\n",
    "            self.score += 1\n",
    "            print(f\"Location {location} has been Cleaned.\")\n",
    "        else:\n",
    "            print(f\"Location {location} is already Clean.\")\n",
    "\n",
    "    def move_and_clean(self, location):\n",
    "        print(f\"Moving to Location {location}...\")\n",
    "        self.clean_location(location)\n",
    "\n",
    "# Create an environment and a vacuum agent\n",
    "theEnvironment = Environment()\n",
    "theVacuum = SimpleReflexVacuumAgent(theEnvironment)\n"
   ]
  },
  {
   "cell_type": "code",
   "execution_count": null,
   "id": "c5b75531-89d8-4c83-b057-a1558baf30f7",
   "metadata": {},
   "outputs": [],
   "source": []
  },
  {
   "cell_type": "code",
   "execution_count": null,
   "id": "27734529-0b6c-489a-8a5b-e4f50220889c",
   "metadata": {},
   "outputs": [],
   "source": []
  },
  {
   "cell_type": "code",
   "execution_count": null,
   "id": "bac2441c-23eb-47a5-bc40-b21330b78b98",
   "metadata": {},
   "outputs": [],
   "source": []
  }
 ],
 "metadata": {
  "kernelspec": {
   "display_name": "Python 3 (ipykernel)",
   "language": "python",
   "name": "python3"
  },
  "language_info": {
   "codemirror_mode": {
    "name": "ipython",
    "version": 3
   },
   "file_extension": ".py",
   "mimetype": "text/x-python",
   "name": "python",
   "nbconvert_exporter": "python",
   "pygments_lexer": "ipython3",
   "version": "3.12.4"
  }
 },
 "nbformat": 4,
 "nbformat_minor": 5
}
