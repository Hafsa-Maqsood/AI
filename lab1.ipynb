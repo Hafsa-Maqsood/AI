{
 "cells": [
  {
   "cell_type": "code",
   "execution_count": 1,
   "id": "657e66b6-7736-4354-adc3-6fd2d054c7f6",
   "metadata": {},
   "outputs": [
    {
     "name": "stdout",
     "output_type": "stream",
     "text": [
      "Hafsa\n",
      "22\n",
      "House no. 79/A\n",
      "hafsagmail.com\n",
      "2345677\n",
      "3316937174\n"
     ]
    }
   ],
   "source": [
    "# Display your profile\n",
    "name =\"Hafsa\"\n",
    "age = 22\n",
    "Address = 'House no. 79/A'\n",
    "email = \"hafsagmail.com\"\n",
    "cnic = 2345677\n",
    "phone = 3316937174\n",
    "print(name)\n",
    "print(age)\n",
    "print(Address)\n",
    "print(email)\n",
    "print(cnic)\n",
    "print(phone)"
   ]
  },
  {
   "cell_type": "code",
   "execution_count": 2,
   "id": "1b79bd0d-a683-4399-a53a-f512221421b2",
   "metadata": {},
   "outputs": [
    {
     "name": "stdout",
     "output_type": "stream",
     "text": [
      "num1: 20\n",
      "num2: 10\n"
     ]
    }
   ],
   "source": [
    "# Swap 2 Variables\n",
    "num1 = 10\n",
    "num2 = 20\n",
    "num3 = num1\n",
    "num1 = num2\n",
    "num2 = num3\n",
    "print(\"num1:\",num1)\n",
    "print(\"num2:\",num2)"
   ]
  },
  {
   "cell_type": "code",
   "execution_count": 3,
   "id": "1efb206e-a7ea-4d81-a46e-bb89b8ee62e0",
   "metadata": {},
   "outputs": [
    {
     "name": "stdin",
     "output_type": "stream",
     "text": [
      "Enter your name:  hafsa\n",
      "Enter your sap:  40880\n"
     ]
    },
    {
     "name": "stdout",
     "output_type": "stream",
     "text": [
      "Hey hafsa your sap is 40880\n"
     ]
    }
   ],
   "source": [
    "# DIsplay from user\n",
    "name = input(\"Enter your name: \")\n",
    "sap = input(\"Enter your sap: \")\n",
    "print(\"Hey \"+ (name) + \" your sap is \" +(sap))"
   ]
  },
  {
   "cell_type": "code",
   "execution_count": 4,
   "id": "c92beff3-0225-4ead-84c1-686d4cdeb3bd",
   "metadata": {},
   "outputs": [
    {
     "data": {
      "text/plain": [
       "16"
      ]
     },
     "execution_count": 4,
     "metadata": {},
     "output_type": "execute_result"
    }
   ],
   "source": [
    "message= \"Programming Language\"\n",
    "message.find(\"r\")\n",
    "message.find(\"a\")\n",
    "message.find(\"m\")\n",
    "message.find(\"n\")\n",
    "message.find(\"u\")"
   ]
  },
  {
   "cell_type": "code",
   "execution_count": 5,
   "id": "89f28123-860e-4838-8277-ae2244beacb1",
   "metadata": {},
   "outputs": [
    {
     "name": "stdout",
     "output_type": "stream",
     "text": [
      "False\n"
     ]
    }
   ],
   "source": [
    "#Comparison operator\n",
    "num1 = 20\n",
    "num2 = 30\n",
    "print(num1==num2)"
   ]
  },
  {
   "cell_type": "code",
   "execution_count": null,
   "id": "4727dde6-9111-41c2-b5e1-ad864bda6f40",
   "metadata": {},
   "outputs": [],
   "source": []
  }
 ],
 "metadata": {
  "kernelspec": {
   "display_name": "Python 3 (ipykernel)",
   "language": "python",
   "name": "python3"
  },
  "language_info": {
   "codemirror_mode": {
    "name": "ipython",
    "version": 3
   },
   "file_extension": ".py",
   "mimetype": "text/x-python",
   "name": "python",
   "nbconvert_exporter": "python",
   "pygments_lexer": "ipython3",
   "version": "3.12.4"
  }
 },
 "nbformat": 4,
 "nbformat_minor": 5
}
