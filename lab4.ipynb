{
 "cells": [
  {
   "cell_type": "code",
   "execution_count": 63,
   "id": "02c0c3be-45e6-4644-bc6d-c0d34437af3b",
   "metadata": {},
   "outputs": [
    {
     "ename": "IndentationError",
     "evalue": "unexpected indent (3231801023.py, line 2)",
     "output_type": "error",
     "traceback": [
      "\u001b[1;36m  Cell \u001b[1;32mIn[63], line 2\u001b[1;36m\u001b[0m\n\u001b[1;33m    def sum(a):\u001b[0m\n\u001b[1;37m    ^\u001b[0m\n\u001b[1;31mIndentationError\u001b[0m\u001b[1;31m:\u001b[0m unexpected indent\n"
     ]
    }
   ],
   "source": [
    "a = [7, 5, 3, 0, 2]\n",
    "      def sum(a):\n",
    "         return(a)    \n",
    "sum(a)\n",
    "\n"
   ]
  },
  {
   "cell_type": "code",
   "execution_count": 65,
   "id": "45d6012a-21c4-4bc5-b689-f577de404f45",
   "metadata": {},
   "outputs": [
    {
     "ename": "IndentationError",
     "evalue": "unindent does not match any outer indentation level (<string>, line 4)",
     "output_type": "error",
     "traceback": [
      "\u001b[1;36m  File \u001b[1;32m<string>:4\u001b[1;36m\u001b[0m\n\u001b[1;33m    else\u001b[0m\n\u001b[1;37m         ^\u001b[0m\n\u001b[1;31mIndentationError\u001b[0m\u001b[1;31m:\u001b[0m unindent does not match any outer indentation level\n"
     ]
    }
   ],
   "source": [
    "def function(roll,atttendence):\n",
    "    if roll in attendence:\n",
    "        return present\n",
    "     else \n",
    "        return absent\n",
    "     "
   ]
  },
  {
   "cell_type": "code",
   "execution_count": 43,
   "id": "4d821013-8094-437e-9c3a-935efb0ce8b0",
   "metadata": {},
   "outputs": [
    {
     "name": "stdout",
     "output_type": "stream",
     "text": [
      "hafsa\n"
     ]
    }
   ],
   "source": [
    "class student:\n",
    "       def fun(self,name):\n",
    "          self.name=name\n",
    "p=student()\n",
    "p.fun(\"hafsa\")\n",
    "print(p.name)\n"
   ]
  },
  {
   "cell_type": "code",
   "execution_count": 52,
   "id": "544e3de0-8f9e-4abc-ae25-78adefb17608",
   "metadata": {},
   "outputs": [
    {
     "name": "stdout",
     "output_type": "stream",
     "text": [
      "Name: nimra, Sap: 5\n",
      "Name: ali, Sap: 6\n",
      "Name: hafsa, Sap: 9\n"
     ]
    }
   ],
   "source": [
    "class Car:\n",
    "    def __init__(self, name, sap):\n",
    "        self.name = name\n",
    "        self.sap = sap\n",
    "    def display_info(self):\n",
    "        print(\"Name: {self.name}, Sap: {self.sap}\")\n",
    "p = Car(\"nimra\", 5)\n",
    "c = Car(\"ali\", 6)\n",
    "b = Car(\"hafsa\", 9)\n",
    "p.display_info()\n",
    "c.display_info()\n",
    "b.display_info()\n"
   ]
  },
  {
   "cell_type": "code",
   "execution_count": 55,
   "id": "6da77174-419d-4abf-9e06-c52b02f8d015",
   "metadata": {},
   "outputs": [
    {
     "name": "stdout",
     "output_type": "stream",
     "text": [
      "nimra's percentage: 85.0%\n"
     ]
    }
   ],
   "source": [
    "class Student:\n",
    "    def __init__(self, name, age, grade):\n",
    "        self.name = name\n",
    "        self.age = age\n",
    "        self.grade = grade\n",
    "    def calculate_percentage(self, total_grade):\n",
    "        if total_grade > 0:  \n",
    "            percentage = (self.grade / total_grade) * 100\n",
    "            return percentage\n",
    "        else:\n",
    "            return \"Total grade must be greater than zero.\"\n",
    "student1 = Student(\"nimra\", 20, 85)\n",
    "total_grade = 100\n",
    "percentage = student1.calculate_percentage(total_grade)\n",
    "print(f\"{student1.name}'s percentage: {percentage}%\")\n"
   ]
  },
  {
   "cell_type": "code",
   "execution_count": null,
   "id": "de3bd6b8-390d-47ec-926f-3dd586d45b43",
   "metadata": {},
   "outputs": [],
   "source": []
  }
 ],
 "metadata": {
  "kernelspec": {
   "display_name": "Python 3 (ipykernel)",
   "language": "python",
   "name": "python3"
  },
  "language_info": {
   "codemirror_mode": {
    "name": "ipython",
    "version": 3
   },
   "file_extension": ".py",
   "mimetype": "text/x-python",
   "name": "python",
   "nbconvert_exporter": "python",
   "pygments_lexer": "ipython3",
   "version": "3.12.4"
  }
 },
 "nbformat": 4,
 "nbformat_minor": 5
}
